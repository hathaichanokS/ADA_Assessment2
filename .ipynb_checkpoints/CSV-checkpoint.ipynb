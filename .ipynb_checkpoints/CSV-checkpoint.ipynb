{
 "cells": [
  {
   "cell_type": "code",
   "execution_count": 2,
   "metadata": {},
   "outputs": [],
   "source": [
    "import csv\n",
    "import numpy as np\n",
    "import keras\n",
    "import pandas as pd\n",
    "from keras.utils.data_utils import *\n",
    "from nltk.corpus import reuters\n",
    "from nltk.corpus import stopwords"
   ]
  },
  {
   "cell_type": "code",
   "execution_count": 3,
   "metadata": {},
   "outputs": [
    {
     "name": "stdout",
     "output_type": "stream",
     "text": [
      "successed\n"
     ]
    }
   ],
   "source": [
    "# create csv with  number of words in each data point\n",
    "categories = reuters.categories();\n",
    "num_words = 'wordCount'\n",
    "label = 'label'\n",
    "row_id = 0\n",
    "\n",
    "with open('statistic.csv', 'w', encoding='utf-8', newline='') as f:\n",
    "    writer = csv.writer(f)\n",
    "    writer.writerow([ '', num_words, label])\n",
    "    for l in range(0, len(categories)):\n",
    "        category_docs = reuters.fileids(categories[l])\n",
    "        label = categories[l]\n",
    "        for i in range(0, len(category_docs)):\n",
    "            row_id +=1\n",
    "            document_words =  reuters.words(category_docs[i]);\n",
    "            num_words = len(document_words)\n",
    "            writer.writerow([ row_id, num_words, label])\n",
    "print(\"successed\") "
   ]
  },
  {
   "cell_type": "code",
   "execution_count": 5,
   "metadata": {},
   "outputs": [
    {
     "name": "stdout",
     "output_type": "stream",
     "text": [
      "alum\n",
      "58\n"
     ]
    }
   ],
   "source": [
    "categories = reuters.categories();\n",
    "print(categories[1])\n",
    "category_docs = reuters.fileids(categories[1])\n",
    "print(len(category_docs))"
   ]
  },
  {
   "cell_type": "code",
   "execution_count": 10,
   "metadata": {},
   "outputs": [
    {
     "name": "stdout",
     "output_type": "stream",
     "text": [
      "successed all\n"
     ]
    }
   ],
   "source": [
    "# create csv with all contents of news\n",
    "categories = reuters.categories();\n",
    "docs = []\n",
    "row_id = 0\n",
    "with open('data.csv', 'w', encoding='utf-8', newline='') as f:\n",
    "    writer = csv.writer(f)\n",
    "    writer.writerow([ '', 'content', 'label', 'label_id'])\n",
    "    for l in range(0, len(categories)):\n",
    "        category_docs = reuters.fileids(categories[l])\n",
    "        for i in range(0, len(category_docs)):\n",
    "            row_id+=1\n",
    "            document_words =  reuters.words(category_docs[i]);\n",
    "            docs.append(' '.join(document_words))\n",
    "            writer.writerow([row_id, docs[0], categories[l]])\n",
    "            docs.clear()\n",
    "                \n",
    "print(\"successed all\")\n"
   ]
  },
  {
   "cell_type": "code",
   "execution_count": null,
   "metadata": {},
   "outputs": [],
   "source": []
  }
 ],
 "metadata": {
  "kernelspec": {
   "display_name": "Python 3",
   "language": "python",
   "name": "python3"
  },
  "language_info": {
   "codemirror_mode": {
    "name": "ipython",
    "version": 3
   },
   "file_extension": ".py",
   "mimetype": "text/x-python",
   "name": "python",
   "nbconvert_exporter": "python",
   "pygments_lexer": "ipython3",
   "version": "3.6.5"
  }
 },
 "nbformat": 4,
 "nbformat_minor": 2
}
