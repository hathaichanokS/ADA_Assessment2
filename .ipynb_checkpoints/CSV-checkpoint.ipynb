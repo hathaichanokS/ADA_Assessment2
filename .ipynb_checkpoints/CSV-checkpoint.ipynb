{
 "cells": [
  {
   "cell_type": "code",
   "execution_count": 2,
   "metadata": {},
   "outputs": [],
   "source": [
    "import csv\n",
    "import numpy as np\n",
    "import keras\n",
    "import pandas as pd\n",
    "from keras.utils.data_utils import *\n",
    "from nltk.corpus import reuters\n",
    "from nltk.corpus import stopwords"
   ]
  },
  {
   "cell_type": "code",
   "execution_count": 3,
   "metadata": {},
   "outputs": [
    {
     "name": "stdout",
     "output_type": "stream",
     "text": [
      "successed\n"
     ]
    }
   ],
   "source": [
    "# create csv with  num of words in each data point\n",
    "categories = reuters.categories();\n",
    "num_words = 'wordCount'\n",
    "label = 'label'\n",
    "row_id = 0\n",
    "\n",
    "with open('statistic.csv', 'w', encoding='utf-8') as f:\n",
    "    writer = csv.writer(f)\n",
    "    for l in range(0, len(categories)):\n",
    "        category_docs = reuters.fileids(categories[l])\n",
    "        writer.writerow([ '', num_words, label])\n",
    "        label = categories[l]\n",
    "        for i in range(0, len(category_docs)):\n",
    "            row_id +=1\n",
    "            document_words =  reuters.words(category_docs[i]);\n",
    "            num_words = len(document_words)\n",
    "            writer.writerow([ row_id, num_words, label])\n",
    "print(\"successed\") "
   ]
  },
  {
   "cell_type": "code",
   "execution_count": null,
   "metadata": {},
   "outputs": [],
   "source": [
    "# create csv with all contents of news\n",
    "categories = reuters.categories();\n",
    "docs = []\n",
    "\n",
    "with open('train.csv', 'w', encoding='utf-8') as f:\n",
    "    writer = csv.writer(f)\n",
    "    for label in range(0, len(categories)):\n",
    "        category_docs = reuters.fileids(categories[label])\n",
    "        for i in range(0, len(category_docs)):\n",
    "            document_words =  reuters.words(category_docs[i]);\n",
    "            docs.append(' '.join(document_words))\n",
    "            writer.writerow([ docs, categories[label]])\n",
    "print(\"successed\")\n"
   ]
  }
 ],
 "metadata": {
  "kernelspec": {
   "display_name": "Python 3",
   "language": "python",
   "name": "python3"
  },
  "language_info": {
   "codemirror_mode": {
    "name": "ipython",
    "version": 3
   },
   "file_extension": ".py",
   "mimetype": "text/x-python",
   "name": "python",
   "nbconvert_exporter": "python",
   "pygments_lexer": "ipython3",
   "version": "3.6.5"
  }
 },
 "nbformat": 4,
 "nbformat_minor": 2
}
